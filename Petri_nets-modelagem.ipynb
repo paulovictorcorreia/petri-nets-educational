{
 "cells": [
  {
   "cell_type": "markdown",
   "metadata": {},
   "source": [
    "# Petri networks\n",
    "\n",
    "Here are only some tests with the snakes package to use on next session's 2 work."
   ]
  },
  {
   "cell_type": "code",
   "execution_count": 1,
   "metadata": {},
   "outputs": [
    {
     "data": {
      "text/plain": [
       "Graph(['node_2', 'node_1', 'node_0', 'node_3'], [])"
      ]
     },
     "execution_count": 1,
     "metadata": {},
     "output_type": "execute_result"
    }
   ],
   "source": [
    "import snakes.plugins\n",
    "import matplotlib.pyplot as plt\n",
    "import matplotlib.image as mpimg\n",
    "snakes.plugins.load([\"gv\", 'labels'], \"snakes.nets\", \"nets\")\n",
    "from nets import *\n",
    "\n",
    "path = 'images/'\n",
    "\n",
    "net = PetriNet(\"mynet\")\n",
    "net.add_place(Place('p1', [dot]))\n",
    "net.add_place(Place('p2'))\n",
    "net.add_place(Place('p3', [dot]))\n",
    "net.add_transition(Transition('t'))\n",
    "net.add_input('p1', 't', Value(dot))\n",
    "net.add_input('p3', 't', Value(dot))\n",
    "net.add_output('p2', 't', Value(dot))\n",
    "net.draw(f'{path}mynet33.png')\n"
   ]
  },
  {
   "cell_type": "code",
   "execution_count": 2,
   "metadata": {},
   "outputs": [
    {
     "data": {
      "text/plain": [
       "Graph(['node_2', 'node_1', 'node_0', 'node_3'], [])"
      ]
     },
     "execution_count": 2,
     "metadata": {},
     "output_type": "execute_result"
    }
   ],
   "source": [
    "t = net.transition('t')\n",
    "m = t.modes()\n",
    "t.fire(m.pop())\n",
    "net.draw(f'{path}mynet2.ps')"
   ]
  },
  {
   "cell_type": "code",
   "execution_count": 3,
   "metadata": {},
   "outputs": [
    {
     "name": "stdout",
     "output_type": "stream",
     "text": [
      "Paulo\n",
      "t1\n",
      "[Substitution()]\n",
      "[]\n"
     ]
    }
   ],
   "source": [
    "class Subject:\n",
    "    def __init__(self, name, year_conclusion):\n",
    "        self.name = name\n",
    "        self.year_conclusion = year_conclusion\n",
    "    def __str__(self):\n",
    "        return str(self.name)\n",
    "\n",
    "class Aluno:\n",
    "    def __init__(self, ident, subjects):\n",
    "        self.ident = ident\n",
    "        self.subjects = subjects\n",
    "    def __str__(self):\n",
    "        return str(self.ident)\n",
    "    def __repr__(self):\n",
    "        return str(self.ident)\n",
    "        \n",
    "student = Aluno('Paulo', Subject('calculo1', '2014.1'))\n",
    "print(student)\n",
    "classes = PetriNet('MyNet2')\n",
    "p1 = Place('p1', [student, dot])\n",
    "#p1.label('aaa')\n",
    "classes.add_place(p1)\n",
    "classes.add_place(Place('p2'))\n",
    "classes.add_place(Place('p3', [dot, student]))\n",
    "classes.place('p2')\n",
    "\n",
    "classes.add_transition(Transition('t1'))\n",
    "classes.add_input('p1', 't1', Value(student))\n",
    "\n",
    "\n",
    "classes.add_input('p3', 't1', Value(student))\n",
    "\n",
    "\n",
    "\n",
    "classes.add_output('p2', 't1', Value(student))\n",
    "\n",
    "\n",
    "\n",
    "classes.draw(f'{path}mynet44.png')\n",
    "t1 = classes.transition('t1')\n",
    "print(t1)\n",
    "m1 = t1.modes()\n",
    "print(m1)\n",
    "t1.fire(m1.pop())\n",
    "print(m1)\n",
    "graph = classes.draw(f'{path}mynet45.png' )\n"
   ]
  },
  {
   "cell_type": "markdown",
   "metadata": {},
   "source": [
    "# Applying Petri To Educational Problems\n",
    "\n",
    "In this new section, we will explore how to model a grade of students in order to visualize in which subjects students get most stuck on, by studying the flow of students in calculus chairs of the Science and Technology course of Federal University of Rio Grande do Norte. We will first do for calculus students and later, if possible, to all the subjects on S&T's curriculum."
   ]
  },
  {
   "cell_type": "markdown",
   "metadata": {},
   "source": [
    "## Importing libs and students data"
   ]
  },
  {
   "cell_type": "code",
   "execution_count": 4,
   "metadata": {},
   "outputs": [],
   "source": [
    "import snakes.plugins\n",
    "import matplotlib.pyplot as plt\n",
    "import matplotlib.image as mpimg\n",
    "snakes.plugins.load([\"gv\", 'labels'], \"snakes.nets\", \"nets\")\n",
    "from nets import *\n",
    "import pandas as pd"
   ]
  },
  {
   "cell_type": "code",
   "execution_count": 5,
   "metadata": {},
   "outputs": [
    {
     "name": "stdout",
     "output_type": "stream",
     "text": [
      "<class 'pandas.core.frame.DataFrame'>\n",
      "RangeIndex: 38276 entries, 0 to 38275\n",
      "Data columns (total 29 columns):\n",
      "id_componente               38276 non-null int64\n",
      "tipo_componente             38276 non-null object\n",
      "codigo                      38276 non-null object\n",
      "nivel                       38276 non-null object\n",
      "nome                        38275 non-null object\n",
      "unidade_responsavel         38276 non-null object\n",
      "ch_teorico                  38276 non-null int64\n",
      "ch_pratico                  38276 non-null int64\n",
      "ch_estagio                  38276 non-null int64\n",
      "ch_total                    38276 non-null int64\n",
      "ch_dedicada_docente         38276 non-null int64\n",
      "ch_ead                      38276 non-null int64\n",
      "cr_max_ead                  38276 non-null int64\n",
      "permite_horario_flexivel    38276 non-null bool\n",
      "qtd_unidades                30183 non-null float64\n",
      "procedimentos_avaliacao     3207 non-null object\n",
      "equivalencia                11115 non-null object\n",
      "pre_requisito               9638 non-null object\n",
      "co_requisito                922 non-null object\n",
      "ementa                      33255 non-null object\n",
      "bibliografia                0 non-null float64\n",
      "objetivos                   10928 non-null object\n",
      "conteudo                    10926 non-null object\n",
      "competencias_habilidades    5590 non-null object\n",
      "referencias                 3204 non-null object\n",
      "ano_programa                10884 non-null float64\n",
      "periodo_programa            10884 non-null float64\n",
      "modalidade                  38276 non-null object\n",
      "curso_componente            9195 non-null object\n",
      "dtypes: bool(1), float64(4), int64(8), object(16)\n",
      "memory usage: 8.2+ MB\n"
     ]
    }
   ],
   "source": [
    "components = pd.read_csv('data/componentes-curriculares-presenciais.csv', sep=';')\n",
    "components.info()"
   ]
  },
  {
   "cell_type": "code",
   "execution_count": 6,
   "metadata": {},
   "outputs": [
    {
     "name": "stdout",
     "output_type": "stream",
     "text": [
      "<class 'pandas.core.frame.DataFrame'>\n",
      "RangeIndex: 20334 entries, 0 to 20333\n",
      "Data columns (total 25 columns):\n",
      "Unnamed: 0                  20334 non-null int64\n",
      "descricao                   20334 non-null object\n",
      "discente                    20334 non-null object\n",
      "id_curso                    20334 non-null float64\n",
      "id_turma                    20334 non-null int64\n",
      "media_final                 14640 non-null object\n",
      "codigo_turma                20334 non-null object\n",
      "id_componente_curricular    20334 non-null int64\n",
      "ano                         20334 non-null int64\n",
      "periodo                     20334 non-null int64\n",
      "data_inicio                 20334 non-null object\n",
      "data_fim                    20334 non-null object\n",
      "data_consolidacao           20333 non-null object\n",
      "agrupadora                  20334 non-null bool\n",
      "id_turma_agrupadora         4674 non-null float64\n",
      "id_componente               17445 non-null float64\n",
      "codigo                      17445 non-null object\n",
      "nome                        17445 non-null object\n",
      "unidade_responsavel         17445 non-null object\n",
      "pre_requisito               7696 non-null object\n",
      "co_requisito                302 non-null object\n",
      "ano_programa                17444 non-null float64\n",
      "periodo_programa            17444 non-null float64\n",
      "curso_componente            16411 non-null object\n",
      "anoperiodo                  20334 non-null int64\n",
      "dtypes: bool(1), float64(5), int64(6), object(13)\n",
      "memory usage: 3.7+ MB\n"
     ]
    }
   ],
   "source": [
    "students = pd.read_csv('data/df_alunos20151.csv')\n",
    "students.info()"
   ]
  },
  {
   "cell_type": "code",
   "execution_count": 8,
   "metadata": {},
   "outputs": [
    {
     "data": {
      "text/plain": [
       "(714,)"
      ]
     },
     "execution_count": 8,
     "metadata": {},
     "output_type": "execute_result"
    }
   ],
   "source": [
    "#Counting unique students on the dataset\n",
    "students['discente'].unique().shape"
   ]
  },
  {
   "cell_type": "code",
   "execution_count": 11,
   "metadata": {},
   "outputs": [
    {
     "data": {
      "text/plain": [
       "(2037, 25)"
      ]
     },
     "execution_count": 11,
     "metadata": {},
     "output_type": "execute_result"
    }
   ],
   "source": [
    "students[students['descricao'] == 'CANCELADO'].shape"
   ]
  },
  {
   "cell_type": "markdown",
   "metadata": {},
   "source": [
    "As we can see, there are 714 students who entered the Science and Technology course in the first semester of 2015. Unfortunately, this does not mean that all of this students will finish the course on expected time of two years or would quit. This will also affect our petri network model in the future.\n",
    "\n",
    "The reason for using these students is because after up from this period, course's grade was changed, and students from previous semesters would affect in our analysis, because how subjects were teached on the previous curriculum could affect their performance in how subjects are teached from 2015 and beyond."
   ]
  },
  {
   "cell_type": "markdown",
   "metadata": {},
   "source": [
    "## Preparing Students Object\n",
    "\n",
    "Now we are going to create a student's model tu use as the token color on the colored petri network. Also, we will clean even more the data so we have only students who have not canceled their registration of the course."
   ]
  },
  {
   "cell_type": "code",
   "execution_count": 17,
   "metadata": {},
   "outputs": [
    {
     "data": {
      "text/html": [
       "<div>\n",
       "<style scoped>\n",
       "    .dataframe tbody tr th:only-of-type {\n",
       "        vertical-align: middle;\n",
       "    }\n",
       "\n",
       "    .dataframe tbody tr th {\n",
       "        vertical-align: top;\n",
       "    }\n",
       "\n",
       "    .dataframe thead th {\n",
       "        text-align: right;\n",
       "    }\n",
       "</style>\n",
       "<table border=\"1\" class=\"dataframe\">\n",
       "  <thead>\n",
       "    <tr style=\"text-align: right;\">\n",
       "      <th></th>\n",
       "      <th>Unnamed: 0</th>\n",
       "      <th>descricao</th>\n",
       "      <th>discente</th>\n",
       "      <th>id_curso</th>\n",
       "      <th>id_turma</th>\n",
       "      <th>media_final</th>\n",
       "      <th>codigo_turma</th>\n",
       "      <th>id_componente_curricular</th>\n",
       "      <th>ano</th>\n",
       "      <th>periodo</th>\n",
       "      <th>...</th>\n",
       "      <th>id_componente</th>\n",
       "      <th>codigo</th>\n",
       "      <th>nome</th>\n",
       "      <th>unidade_responsavel</th>\n",
       "      <th>pre_requisito</th>\n",
       "      <th>co_requisito</th>\n",
       "      <th>ano_programa</th>\n",
       "      <th>periodo_programa</th>\n",
       "      <th>curso_componente</th>\n",
       "      <th>anoperiodo</th>\n",
       "    </tr>\n",
       "  </thead>\n",
       "  <tbody>\n",
       "    <tr>\n",
       "      <th>0</th>\n",
       "      <td>720645</td>\n",
       "      <td>REPROVADO POR MÉDIA E POR FALTAS</td>\n",
       "      <td>6360ce81e659feee39452aa8cd111beb</td>\n",
       "      <td>10320810.0</td>\n",
       "      <td>1242589</td>\n",
       "      <td>0,0</td>\n",
       "      <td>03</td>\n",
       "      <td>57587</td>\n",
       "      <td>2015</td>\n",
       "      <td>1</td>\n",
       "      <td>...</td>\n",
       "      <td>57587.0</td>\n",
       "      <td>ECT2103</td>\n",
       "      <td>CÁLCULO I</td>\n",
       "      <td>ESCOLA DE CIÊNCIAS E TECNOLOGIA</td>\n",
       "      <td>NaN</td>\n",
       "      <td>NaN</td>\n",
       "      <td>2019.0</td>\n",
       "      <td>2.0</td>\n",
       "      <td>CIÊNCIAS E TECNOLOGIA</td>\n",
       "      <td>20151</td>\n",
       "    </tr>\n",
       "    <tr>\n",
       "      <th>1</th>\n",
       "      <td>720648</td>\n",
       "      <td>CANCELADO</td>\n",
       "      <td>e5930e3c2c83d80ef671058e553b96b9</td>\n",
       "      <td>10320810.0</td>\n",
       "      <td>1242589</td>\n",
       "      <td>1,3</td>\n",
       "      <td>03</td>\n",
       "      <td>57587</td>\n",
       "      <td>2015</td>\n",
       "      <td>1</td>\n",
       "      <td>...</td>\n",
       "      <td>57587.0</td>\n",
       "      <td>ECT2103</td>\n",
       "      <td>CÁLCULO I</td>\n",
       "      <td>ESCOLA DE CIÊNCIAS E TECNOLOGIA</td>\n",
       "      <td>NaN</td>\n",
       "      <td>NaN</td>\n",
       "      <td>2019.0</td>\n",
       "      <td>2.0</td>\n",
       "      <td>CIÊNCIAS E TECNOLOGIA</td>\n",
       "      <td>20151</td>\n",
       "    </tr>\n",
       "    <tr>\n",
       "      <th>2</th>\n",
       "      <td>720651</td>\n",
       "      <td>REPROVADO</td>\n",
       "      <td>dab92c51983ebd2459e35439f103f686</td>\n",
       "      <td>10320810.0</td>\n",
       "      <td>1242589</td>\n",
       "      <td>0,7</td>\n",
       "      <td>03</td>\n",
       "      <td>57587</td>\n",
       "      <td>2015</td>\n",
       "      <td>1</td>\n",
       "      <td>...</td>\n",
       "      <td>57587.0</td>\n",
       "      <td>ECT2103</td>\n",
       "      <td>CÁLCULO I</td>\n",
       "      <td>ESCOLA DE CIÊNCIAS E TECNOLOGIA</td>\n",
       "      <td>NaN</td>\n",
       "      <td>NaN</td>\n",
       "      <td>2019.0</td>\n",
       "      <td>2.0</td>\n",
       "      <td>CIÊNCIAS E TECNOLOGIA</td>\n",
       "      <td>20151</td>\n",
       "    </tr>\n",
       "    <tr>\n",
       "      <th>3</th>\n",
       "      <td>720654</td>\n",
       "      <td>REPROVADO</td>\n",
       "      <td>d258f7fb1f7e7afa8f7b25b295307c7a</td>\n",
       "      <td>10320810.0</td>\n",
       "      <td>1242589</td>\n",
       "      <td>0,0</td>\n",
       "      <td>03</td>\n",
       "      <td>57587</td>\n",
       "      <td>2015</td>\n",
       "      <td>1</td>\n",
       "      <td>...</td>\n",
       "      <td>57587.0</td>\n",
       "      <td>ECT2103</td>\n",
       "      <td>CÁLCULO I</td>\n",
       "      <td>ESCOLA DE CIÊNCIAS E TECNOLOGIA</td>\n",
       "      <td>NaN</td>\n",
       "      <td>NaN</td>\n",
       "      <td>2019.0</td>\n",
       "      <td>2.0</td>\n",
       "      <td>CIÊNCIAS E TECNOLOGIA</td>\n",
       "      <td>20151</td>\n",
       "    </tr>\n",
       "    <tr>\n",
       "      <th>4</th>\n",
       "      <td>720657</td>\n",
       "      <td>REPROVADO</td>\n",
       "      <td>23b37af4ddf3030c9eb44e153457ed60</td>\n",
       "      <td>10320810.0</td>\n",
       "      <td>1242589</td>\n",
       "      <td>3,0</td>\n",
       "      <td>03</td>\n",
       "      <td>57587</td>\n",
       "      <td>2015</td>\n",
       "      <td>1</td>\n",
       "      <td>...</td>\n",
       "      <td>57587.0</td>\n",
       "      <td>ECT2103</td>\n",
       "      <td>CÁLCULO I</td>\n",
       "      <td>ESCOLA DE CIÊNCIAS E TECNOLOGIA</td>\n",
       "      <td>NaN</td>\n",
       "      <td>NaN</td>\n",
       "      <td>2019.0</td>\n",
       "      <td>2.0</td>\n",
       "      <td>CIÊNCIAS E TECNOLOGIA</td>\n",
       "      <td>20151</td>\n",
       "    </tr>\n",
       "  </tbody>\n",
       "</table>\n",
       "<p>5 rows × 25 columns</p>\n",
       "</div>"
      ],
      "text/plain": [
       "   Unnamed: 0                         descricao  \\\n",
       "0      720645  REPROVADO POR MÉDIA E POR FALTAS   \n",
       "1      720648                         CANCELADO   \n",
       "2      720651                         REPROVADO   \n",
       "3      720654                         REPROVADO   \n",
       "4      720657                         REPROVADO   \n",
       "\n",
       "                           discente    id_curso  id_turma media_final  \\\n",
       "0  6360ce81e659feee39452aa8cd111beb  10320810.0   1242589         0,0   \n",
       "1  e5930e3c2c83d80ef671058e553b96b9  10320810.0   1242589         1,3   \n",
       "2  dab92c51983ebd2459e35439f103f686  10320810.0   1242589         0,7   \n",
       "3  d258f7fb1f7e7afa8f7b25b295307c7a  10320810.0   1242589         0,0   \n",
       "4  23b37af4ddf3030c9eb44e153457ed60  10320810.0   1242589         3,0   \n",
       "\n",
       "  codigo_turma  id_componente_curricular   ano  periodo  ... id_componente  \\\n",
       "0           03                     57587  2015        1  ...       57587.0   \n",
       "1           03                     57587  2015        1  ...       57587.0   \n",
       "2           03                     57587  2015        1  ...       57587.0   \n",
       "3           03                     57587  2015        1  ...       57587.0   \n",
       "4           03                     57587  2015        1  ...       57587.0   \n",
       "\n",
       "    codigo       nome              unidade_responsavel  pre_requisito  \\\n",
       "0  ECT2103  CÁLCULO I  ESCOLA DE CIÊNCIAS E TECNOLOGIA            NaN   \n",
       "1  ECT2103  CÁLCULO I  ESCOLA DE CIÊNCIAS E TECNOLOGIA            NaN   \n",
       "2  ECT2103  CÁLCULO I  ESCOLA DE CIÊNCIAS E TECNOLOGIA            NaN   \n",
       "3  ECT2103  CÁLCULO I  ESCOLA DE CIÊNCIAS E TECNOLOGIA            NaN   \n",
       "4  ECT2103  CÁLCULO I  ESCOLA DE CIÊNCIAS E TECNOLOGIA            NaN   \n",
       "\n",
       "   co_requisito ano_programa periodo_programa       curso_componente  \\\n",
       "0           NaN       2019.0              2.0  CIÊNCIAS E TECNOLOGIA   \n",
       "1           NaN       2019.0              2.0  CIÊNCIAS E TECNOLOGIA   \n",
       "2           NaN       2019.0              2.0  CIÊNCIAS E TECNOLOGIA   \n",
       "3           NaN       2019.0              2.0  CIÊNCIAS E TECNOLOGIA   \n",
       "4           NaN       2019.0              2.0  CIÊNCIAS E TECNOLOGIA   \n",
       "\n",
       "  anoperiodo  \n",
       "0      20151  \n",
       "1      20151  \n",
       "2      20151  \n",
       "3      20151  \n",
       "4      20151  \n",
       "\n",
       "[5 rows x 25 columns]"
      ]
     },
     "execution_count": 17,
     "metadata": {},
     "output_type": "execute_result"
    }
   ],
   "source": [
    "students_not_null = students.dropna(subset=['media_final'])\n",
    "students_not_null.head()"
   ]
  },
  {
   "cell_type": "code",
   "execution_count": 23,
   "metadata": {},
   "outputs": [
    {
     "data": {
      "text/plain": [
       "APROVADO POR NOTA                   5364\n",
       "APROVADO                            4462\n",
       "INDEFERIDO                          2799\n",
       "REPROVADO                           2798\n",
       "CANCELADO                           2037\n",
       "REPROVADO POR MÉDIA E POR FALTAS    1274\n",
       "TRANCADO                             635\n",
       "DESISTENCIA                          469\n",
       "EXCLUIDA                             442\n",
       "REPROVADO POR NOTA                    40\n",
       "REPROVADO POR FALTAS                   8\n",
       "REPROVADO POR NOTA E FALTA             6\n",
       "Name: descricao, dtype: int64"
      ]
     },
     "execution_count": 23,
     "metadata": {},
     "output_type": "execute_result"
    }
   ],
   "source": [
    "students['descricao'].value_counts(ascending=False)"
   ]
  },
  {
   "cell_type": "code",
   "execution_count": 22,
   "metadata": {},
   "outputs": [
    {
     "data": {
      "text/plain": [
       "APROVADO POR NOTA                   5364\n",
       "APROVADO                            4462\n",
       "REPROVADO                           2798\n",
       "REPROVADO POR MÉDIA E POR FALTAS    1274\n",
       "CANCELADO                            678\n",
       "REPROVADO POR NOTA                    40\n",
       "REPROVADO POR FALTAS                   8\n",
       "REPROVADO POR NOTA E FALTA             6\n",
       "TRANCADO                               6\n",
       "EXCLUIDA                               3\n",
       "DESISTENCIA                            1\n",
       "Name: descricao, dtype: int64"
      ]
     },
     "execution_count": 22,
     "metadata": {},
     "output_type": "execute_result"
    }
   ],
   "source": [
    "students_not_null['descricao'].value_counts(ascending=False)"
   ]
  },
  {
   "cell_type": "code",
   "execution_count": null,
   "metadata": {},
   "outputs": [],
   "source": [
    "excluded = students_not_null['descricao'] != 'EXCLUIDA'\n",
    "give_up = students_not_null['descricao'] != 'DESISTENCIA'\n",
    "cancelled = students_not_null['descricao'] != 'CANCELADO'"
   ]
  }
 ],
 "metadata": {
  "kernelspec": {
   "display_name": "Python 3",
   "language": "python",
   "name": "python3"
  },
  "language_info": {
   "codemirror_mode": {
    "name": "ipython",
    "version": 3
   },
   "file_extension": ".py",
   "mimetype": "text/x-python",
   "name": "python",
   "nbconvert_exporter": "python",
   "pygments_lexer": "ipython3",
   "version": "3.7.3"
  }
 },
 "nbformat": 4,
 "nbformat_minor": 4
}
